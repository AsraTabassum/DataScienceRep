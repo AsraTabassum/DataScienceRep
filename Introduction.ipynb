{
 "cells": [
  {
   "cell_type": "markdown",
   "metadata": {},
   "source": [
    "## Introduction\n"
   ]
  },
  {
   "cell_type": "markdown",
   "metadata": {},
   "source": [
    "Toronto is Canada’s largest city. Its large population of immigrants from all over the globe has also made Toronto one of the most multicultural cities in the world. Toronto is a world leader in areas such as business, finance, technology, entertainment and culture. Its large population of immigrants from all over the globe has also made Toronto one of the most multicultural cities in the world. This means that the market is highly competitive. As it is highly developed city so cost of doing business is also one of the highest. Thus, any new business venture or expansion needs to be analysed carefully. The insights derived from my analysis will give good understanding of the business environment which will help in strategically targeting the market. This will help in reduction of risk. And the Return on Investment will be reasonable."
   ]
  },
  {
   "cell_type": "markdown",
   "metadata": {},
   "source": [
    "## Business Problem"
   ]
  },
  {
   "cell_type": "markdown",
   "metadata": {},
   "source": [
    "Toronto is a global city filled with vast opportunity and is home to an array of distinctive and dynamic neighbourhoods that reflect the diversity of its population. The city is known for its vibrant arts and entertainment scene, incredible cultural festivals, delicious food, thriving sports culture, excellent shopping, beautiful parks and beaches, and much more.\n",
    "\n",
    "By opening for business in Toronto, we must position ourself in the heart of a thriving metropolis, with incredible opportunities available to us, regardless of the industry.\n",
    "\n",
    "Sushi restaurants have become very popular and thriving in Canada, now it seems that there is one on every corner, not only in major cities but also in smaller cities. Starting a sushi restaurant can be a great business opportunity, but one needs to distinguish themselves from others to enjoy long-term success in the market."
   ]
  },
  {
   "cell_type": "markdown",
   "metadata": {},
   "source": [
    "## Finding a suitable location"
   ]
  },
  {
   "cell_type": "markdown",
   "metadata": {},
   "source": [
    "To plan a real restaurant that could demand higher prices for fresh fish delivered daily from Japan, we should focus on neighborhoods and outlets that already attract a sophisticated Japanese client. If we're planning a cheap buffet restaurant, points to the masses looking for affordable high-traffic locations with large shopping centers and other local points of interest. So it is evident that to survive in such competitive market it is very important to startegically plan. Various factors need to be studied in-order to decide on the Location.\n",
    "\n",
    "So, since most of the businesses, shopping centers and entertainment areas are mostly centered in Downtown, Toronto, it would be best to choose a location within Downtown area to set up our sushi restaurant. "
   ]
  },
  {
   "cell_type": "markdown",
   "metadata": {},
   "source": [
    "## Target Audience"
   ]
  },
  {
   "cell_type": "markdown",
   "metadata": {},
   "source": [
    "My Client has prefferd to open his business in Downtown,Toronto area, so I will only be focusing on that borough during my analysis. The objective is to locate and recommend to the management which location in Downtown area will be the best choice to start a restaurant. The Management also expects to understand the rationale of the recommendations made.\n",
    "\n",
    "This would interest anyone who wants to start a new restaurant in Downtown, Toronto city."
   ]
  },
  {
   "cell_type": "code",
   "execution_count": null,
   "metadata": {},
   "outputs": [],
   "source": []
  }
 ],
 "metadata": {
  "kernelspec": {
   "display_name": "Python 3",
   "language": "python",
   "name": "python3"
  },
  "language_info": {
   "codemirror_mode": {
    "name": "ipython",
    "version": 3
   },
   "file_extension": ".py",
   "mimetype": "text/x-python",
   "name": "python",
   "nbconvert_exporter": "python",
   "pygments_lexer": "ipython3",
   "version": "3.7.6"
  }
 },
 "nbformat": 4,
 "nbformat_minor": 4
}
